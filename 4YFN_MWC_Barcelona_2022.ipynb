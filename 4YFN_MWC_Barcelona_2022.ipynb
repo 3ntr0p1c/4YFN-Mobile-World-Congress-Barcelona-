{
  "nbformat": 4,
  "nbformat_minor": 0,
  "metadata": {
    "colab": {
      "name": "4YFN - MWC Barcelona 2022.ipynb",
      "provenance": [],
      "collapsed_sections": []
    },
    "kernelspec": {
      "name": "python3",
      "display_name": "Python 3"
    },
    "language_info": {
      "name": "python"
    },
    "accelerator": "GPU"
  },
  "cells": [
    {
      "cell_type": "code",
      "execution_count": 193,
      "metadata": {
        "id": "2-TlLsEILi1T"
      },
      "outputs": [],
      "source": [
        "# importamos las librerías que vamos a necesitar\n",
        "import pandas as pd\n",
        "import numpy as np\n",
        "\n",
        "from sklearn.model_selection import train_test_split\n",
        "from sklearn import metrics\n",
        "from sklearn.tree import DecisionTreeClassifier\n",
        "from sklearn.ensemble import RandomForestClassifier,BaggingClassifier\n",
        "from sklearn.model_selection import cross_val_score\n",
        "\n",
        "import matplotlib.pyplot as plt\n",
        "import seaborn as sns\n",
        "\n",
        "from imblearn.over_sampling import SMOTE\n",
        "\n",
        "plt.rcParams['figure.figsize'] = (12.0, 8.0)\n",
        "sns.set_style('white')"
      ]
    },
    {
      "cell_type": "code",
      "source": [
        "from google.colab import drive\n",
        "drive.mount('/content/drive')"
      ],
      "metadata": {
        "colab": {
          "base_uri": "https://localhost:8080/"
        },
        "id": "rl9b49o0Ltt_",
        "outputId": "88a231b7-3208-4384-fc2b-f096e92a2b6f"
      },
      "execution_count": 167,
      "outputs": [
        {
          "output_type": "stream",
          "name": "stdout",
          "text": [
            "Drive already mounted at /content/drive; to attempt to forcibly remount, call drive.mount(\"/content/drive\", force_remount=True).\n"
          ]
        }
      ]
    },
    {
      "cell_type": "code",
      "source": [
        "# Cargamos los datos con los que vamos a realizar el estudio\n",
        "\n",
        "clients = pd.read_csv('/content/drive/MyDrive/mwc22-client_table.csv', sep=',', decimal=',') # dataset con información de los clientes de Nuwefruit\n",
        "orders = pd.read_csv('/content/drive/MyDrive/mwc22-orders_table.csv', sep=',') # dataset con información de los pedidos realizados por los clientes\n",
        "test = pd.read_csv('/content/drive/MyDrive/mwc22-client_table+-+test_x.csv', sep=',', decimal=',') # dataset sobre el que realizar la predicción del target (client_segment)\n"
      ],
      "metadata": {
        "id": "OjgfNc4iL0ew"
      },
      "execution_count": 168,
      "outputs": []
    },
    {
      "cell_type": "markdown",
      "source": [
        "#### EDA\n",
        "\n",
        "Se realiza un análisis exploratorio con el fin de estudiar:\n",
        "\n",
        "- Las ventas y la actividad de los clientes\n",
        "- Evaluar el impacto de la promoción\n",
        "\n",
        "Empezamos analizando el conjunto de datos de los pedidos realizados, 'orders'."
      ],
      "metadata": {
        "id": "S4Bsw8lSoakK"
      }
    },
    {
      "cell_type": "code",
      "source": [
        "# inspección visual de la estructura del dataset\n",
        "orders.head()"
      ],
      "metadata": {
        "colab": {
          "base_uri": "https://localhost:8080/",
          "height": 206
        },
        "id": "4pkciDusMT3k",
        "outputId": "9b570336-41a8-4b86-e3d9-180c368d2ac7"
      },
      "execution_count": 169,
      "outputs": [
        {
          "output_type": "execute_result",
          "data": {
            "text/html": [
              "\n",
              "  <div id=\"df-eae4118d-d638-41c6-a0e6-c05f3076eb49\">\n",
              "    <div class=\"colab-df-container\">\n",
              "      <div>\n",
              "<style scoped>\n",
              "    .dataframe tbody tr th:only-of-type {\n",
              "        vertical-align: middle;\n",
              "    }\n",
              "\n",
              "    .dataframe tbody tr th {\n",
              "        vertical-align: top;\n",
              "    }\n",
              "\n",
              "    .dataframe thead th {\n",
              "        text-align: right;\n",
              "    }\n",
              "</style>\n",
              "<table border=\"1\" class=\"dataframe\">\n",
              "  <thead>\n",
              "    <tr style=\"text-align: right;\">\n",
              "      <th></th>\n",
              "      <th>CLIENT ID</th>\n",
              "      <th>NB PRODS</th>\n",
              "      <th>ORDER ID</th>\n",
              "      <th>FRUIT_PRODUCT</th>\n",
              "    </tr>\n",
              "  </thead>\n",
              "  <tbody>\n",
              "    <tr>\n",
              "      <th>0</th>\n",
              "      <td>18070505</td>\n",
              "      <td>5</td>\n",
              "      <td>671907264</td>\n",
              "      <td>Apple</td>\n",
              "    </tr>\n",
              "    <tr>\n",
              "      <th>1</th>\n",
              "      <td>18070505</td>\n",
              "      <td>10</td>\n",
              "      <td>671907264</td>\n",
              "      <td>Orange</td>\n",
              "    </tr>\n",
              "    <tr>\n",
              "      <th>2</th>\n",
              "      <td>18070505</td>\n",
              "      <td>5</td>\n",
              "      <td>671907264</td>\n",
              "      <td>Kiwi</td>\n",
              "    </tr>\n",
              "    <tr>\n",
              "      <th>3</th>\n",
              "      <td>18070505</td>\n",
              "      <td>10</td>\n",
              "      <td>671907264</td>\n",
              "      <td>Pear</td>\n",
              "    </tr>\n",
              "    <tr>\n",
              "      <th>4</th>\n",
              "      <td>18070505</td>\n",
              "      <td>5</td>\n",
              "      <td>671907264</td>\n",
              "      <td>Cheery</td>\n",
              "    </tr>\n",
              "  </tbody>\n",
              "</table>\n",
              "</div>\n",
              "      <button class=\"colab-df-convert\" onclick=\"convertToInteractive('df-eae4118d-d638-41c6-a0e6-c05f3076eb49')\"\n",
              "              title=\"Convert this dataframe to an interactive table.\"\n",
              "              style=\"display:none;\">\n",
              "        \n",
              "  <svg xmlns=\"http://www.w3.org/2000/svg\" height=\"24px\"viewBox=\"0 0 24 24\"\n",
              "       width=\"24px\">\n",
              "    <path d=\"M0 0h24v24H0V0z\" fill=\"none\"/>\n",
              "    <path d=\"M18.56 5.44l.94 2.06.94-2.06 2.06-.94-2.06-.94-.94-2.06-.94 2.06-2.06.94zm-11 1L8.5 8.5l.94-2.06 2.06-.94-2.06-.94L8.5 2.5l-.94 2.06-2.06.94zm10 10l.94 2.06.94-2.06 2.06-.94-2.06-.94-.94-2.06-.94 2.06-2.06.94z\"/><path d=\"M17.41 7.96l-1.37-1.37c-.4-.4-.92-.59-1.43-.59-.52 0-1.04.2-1.43.59L10.3 9.45l-7.72 7.72c-.78.78-.78 2.05 0 2.83L4 21.41c.39.39.9.59 1.41.59.51 0 1.02-.2 1.41-.59l7.78-7.78 2.81-2.81c.8-.78.8-2.07 0-2.86zM5.41 20L4 18.59l7.72-7.72 1.47 1.35L5.41 20z\"/>\n",
              "  </svg>\n",
              "      </button>\n",
              "      \n",
              "  <style>\n",
              "    .colab-df-container {\n",
              "      display:flex;\n",
              "      flex-wrap:wrap;\n",
              "      gap: 12px;\n",
              "    }\n",
              "\n",
              "    .colab-df-convert {\n",
              "      background-color: #E8F0FE;\n",
              "      border: none;\n",
              "      border-radius: 50%;\n",
              "      cursor: pointer;\n",
              "      display: none;\n",
              "      fill: #1967D2;\n",
              "      height: 32px;\n",
              "      padding: 0 0 0 0;\n",
              "      width: 32px;\n",
              "    }\n",
              "\n",
              "    .colab-df-convert:hover {\n",
              "      background-color: #E2EBFA;\n",
              "      box-shadow: 0px 1px 2px rgba(60, 64, 67, 0.3), 0px 1px 3px 1px rgba(60, 64, 67, 0.15);\n",
              "      fill: #174EA6;\n",
              "    }\n",
              "\n",
              "    [theme=dark] .colab-df-convert {\n",
              "      background-color: #3B4455;\n",
              "      fill: #D2E3FC;\n",
              "    }\n",
              "\n",
              "    [theme=dark] .colab-df-convert:hover {\n",
              "      background-color: #434B5C;\n",
              "      box-shadow: 0px 1px 3px 1px rgba(0, 0, 0, 0.15);\n",
              "      filter: drop-shadow(0px 1px 2px rgba(0, 0, 0, 0.3));\n",
              "      fill: #FFFFFF;\n",
              "    }\n",
              "  </style>\n",
              "\n",
              "      <script>\n",
              "        const buttonEl =\n",
              "          document.querySelector('#df-eae4118d-d638-41c6-a0e6-c05f3076eb49 button.colab-df-convert');\n",
              "        buttonEl.style.display =\n",
              "          google.colab.kernel.accessAllowed ? 'block' : 'none';\n",
              "\n",
              "        async function convertToInteractive(key) {\n",
              "          const element = document.querySelector('#df-eae4118d-d638-41c6-a0e6-c05f3076eb49');\n",
              "          const dataTable =\n",
              "            await google.colab.kernel.invokeFunction('convertToInteractive',\n",
              "                                                     [key], {});\n",
              "          if (!dataTable) return;\n",
              "\n",
              "          const docLinkHtml = 'Like what you see? Visit the ' +\n",
              "            '<a target=\"_blank\" href=https://colab.research.google.com/notebooks/data_table.ipynb>data table notebook</a>'\n",
              "            + ' to learn more about interactive tables.';\n",
              "          element.innerHTML = '';\n",
              "          dataTable['output_type'] = 'display_data';\n",
              "          await google.colab.output.renderOutput(dataTable, element);\n",
              "          const docLink = document.createElement('div');\n",
              "          docLink.innerHTML = docLinkHtml;\n",
              "          element.appendChild(docLink);\n",
              "        }\n",
              "      </script>\n",
              "    </div>\n",
              "  </div>\n",
              "  "
            ],
            "text/plain": [
              "   CLIENT ID  NB PRODS   ORDER ID FRUIT_PRODUCT\n",
              "0   18070505         5  671907264         Apple\n",
              "1   18070505        10  671907264        Orange\n",
              "2   18070505         5  671907264          Kiwi\n",
              "3   18070505        10  671907264          Pear\n",
              "4   18070505         5  671907264        Cheery"
            ]
          },
          "metadata": {},
          "execution_count": 169
        }
      ]
    },
    {
      "cell_type": "code",
      "source": [
        "# información más detallada del contenido del dataset y del tipo de variables que éste contiene\n",
        "orders.info()"
      ],
      "metadata": {
        "colab": {
          "base_uri": "https://localhost:8080/"
        },
        "id": "EnRwd1m7Cbxi",
        "outputId": "a80c3411-01a4-4123-86ab-2b3c920f92d7"
      },
      "execution_count": 170,
      "outputs": [
        {
          "output_type": "stream",
          "name": "stdout",
          "text": [
            "<class 'pandas.core.frame.DataFrame'>\n",
            "RangeIndex: 66912 entries, 0 to 66911\n",
            "Data columns (total 4 columns):\n",
            " #   Column         Non-Null Count  Dtype \n",
            "---  ------         --------------  ----- \n",
            " 0   CLIENT ID      66912 non-null  int64 \n",
            " 1   NB PRODS       66912 non-null  int64 \n",
            " 2   ORDER ID       66912 non-null  int64 \n",
            " 3   FRUIT_PRODUCT  66912 non-null  object\n",
            "dtypes: int64(3), object(1)\n",
            "memory usage: 2.0+ MB\n"
          ]
        }
      ]
    },
    {
      "cell_type": "code",
      "source": [
        "# Inspección de si tenemos valores NaN o null\n",
        "orders.isnull().values.any()"
      ],
      "metadata": {
        "colab": {
          "base_uri": "https://localhost:8080/"
        },
        "id": "ORgEL2gnCmeB",
        "outputId": "a019a3db-d3ce-47f4-ef18-7d049dfa40ee"
      },
      "execution_count": 171,
      "outputs": [
        {
          "output_type": "execute_result",
          "data": {
            "text/plain": [
              "False"
            ]
          },
          "metadata": {},
          "execution_count": 171
        }
      ]
    },
    {
      "cell_type": "code",
      "source": [
        "# Alguna información estadística acerca del dataset\n",
        "orders.describe()"
      ],
      "metadata": {
        "colab": {
          "base_uri": "https://localhost:8080/",
          "height": 300
        },
        "id": "9qwAibXcqMqx",
        "outputId": "a250fa71-aed4-4356-9b69-c7d26d27ace3"
      },
      "execution_count": 172,
      "outputs": [
        {
          "output_type": "execute_result",
          "data": {
            "text/html": [
              "\n",
              "  <div id=\"df-5baf5291-b421-4c4d-aa14-aaa6542de737\">\n",
              "    <div class=\"colab-df-container\">\n",
              "      <div>\n",
              "<style scoped>\n",
              "    .dataframe tbody tr th:only-of-type {\n",
              "        vertical-align: middle;\n",
              "    }\n",
              "\n",
              "    .dataframe tbody tr th {\n",
              "        vertical-align: top;\n",
              "    }\n",
              "\n",
              "    .dataframe thead th {\n",
              "        text-align: right;\n",
              "    }\n",
              "</style>\n",
              "<table border=\"1\" class=\"dataframe\">\n",
              "  <thead>\n",
              "    <tr style=\"text-align: right;\">\n",
              "      <th></th>\n",
              "      <th>CLIENT ID</th>\n",
              "      <th>NB PRODS</th>\n",
              "      <th>ORDER ID</th>\n",
              "    </tr>\n",
              "  </thead>\n",
              "  <tbody>\n",
              "    <tr>\n",
              "      <th>count</th>\n",
              "      <td>6.691200e+04</td>\n",
              "      <td>66912.000000</td>\n",
              "      <td>6.691200e+04</td>\n",
              "    </tr>\n",
              "    <tr>\n",
              "      <th>mean</th>\n",
              "      <td>2.613407e+07</td>\n",
              "      <td>4.528112</td>\n",
              "      <td>6.722533e+08</td>\n",
              "    </tr>\n",
              "    <tr>\n",
              "      <th>std</th>\n",
              "      <td>8.473596e+06</td>\n",
              "      <td>5.788227</td>\n",
              "      <td>3.205826e+06</td>\n",
              "    </tr>\n",
              "    <tr>\n",
              "      <th>min</th>\n",
              "      <td>1.807050e+07</td>\n",
              "      <td>-80.000000</td>\n",
              "      <td>6.638335e+08</td>\n",
              "    </tr>\n",
              "    <tr>\n",
              "      <th>25%</th>\n",
              "      <td>2.017427e+07</td>\n",
              "      <td>1.000000</td>\n",
              "      <td>6.694803e+08</td>\n",
              "    </tr>\n",
              "    <tr>\n",
              "      <th>50%</th>\n",
              "      <td>2.438055e+07</td>\n",
              "      <td>3.000000</td>\n",
              "      <td>6.719971e+08</td>\n",
              "    </tr>\n",
              "    <tr>\n",
              "      <th>75%</th>\n",
              "      <td>2.538708e+07</td>\n",
              "      <td>5.000000</td>\n",
              "      <td>6.750893e+08</td>\n",
              "    </tr>\n",
              "    <tr>\n",
              "      <th>max</th>\n",
              "      <td>4.836586e+07</td>\n",
              "      <td>198.000000</td>\n",
              "      <td>6.832132e+08</td>\n",
              "    </tr>\n",
              "  </tbody>\n",
              "</table>\n",
              "</div>\n",
              "      <button class=\"colab-df-convert\" onclick=\"convertToInteractive('df-5baf5291-b421-4c4d-aa14-aaa6542de737')\"\n",
              "              title=\"Convert this dataframe to an interactive table.\"\n",
              "              style=\"display:none;\">\n",
              "        \n",
              "  <svg xmlns=\"http://www.w3.org/2000/svg\" height=\"24px\"viewBox=\"0 0 24 24\"\n",
              "       width=\"24px\">\n",
              "    <path d=\"M0 0h24v24H0V0z\" fill=\"none\"/>\n",
              "    <path d=\"M18.56 5.44l.94 2.06.94-2.06 2.06-.94-2.06-.94-.94-2.06-.94 2.06-2.06.94zm-11 1L8.5 8.5l.94-2.06 2.06-.94-2.06-.94L8.5 2.5l-.94 2.06-2.06.94zm10 10l.94 2.06.94-2.06 2.06-.94-2.06-.94-.94-2.06-.94 2.06-2.06.94z\"/><path d=\"M17.41 7.96l-1.37-1.37c-.4-.4-.92-.59-1.43-.59-.52 0-1.04.2-1.43.59L10.3 9.45l-7.72 7.72c-.78.78-.78 2.05 0 2.83L4 21.41c.39.39.9.59 1.41.59.51 0 1.02-.2 1.41-.59l7.78-7.78 2.81-2.81c.8-.78.8-2.07 0-2.86zM5.41 20L4 18.59l7.72-7.72 1.47 1.35L5.41 20z\"/>\n",
              "  </svg>\n",
              "      </button>\n",
              "      \n",
              "  <style>\n",
              "    .colab-df-container {\n",
              "      display:flex;\n",
              "      flex-wrap:wrap;\n",
              "      gap: 12px;\n",
              "    }\n",
              "\n",
              "    .colab-df-convert {\n",
              "      background-color: #E8F0FE;\n",
              "      border: none;\n",
              "      border-radius: 50%;\n",
              "      cursor: pointer;\n",
              "      display: none;\n",
              "      fill: #1967D2;\n",
              "      height: 32px;\n",
              "      padding: 0 0 0 0;\n",
              "      width: 32px;\n",
              "    }\n",
              "\n",
              "    .colab-df-convert:hover {\n",
              "      background-color: #E2EBFA;\n",
              "      box-shadow: 0px 1px 2px rgba(60, 64, 67, 0.3), 0px 1px 3px 1px rgba(60, 64, 67, 0.15);\n",
              "      fill: #174EA6;\n",
              "    }\n",
              "\n",
              "    [theme=dark] .colab-df-convert {\n",
              "      background-color: #3B4455;\n",
              "      fill: #D2E3FC;\n",
              "    }\n",
              "\n",
              "    [theme=dark] .colab-df-convert:hover {\n",
              "      background-color: #434B5C;\n",
              "      box-shadow: 0px 1px 3px 1px rgba(0, 0, 0, 0.15);\n",
              "      filter: drop-shadow(0px 1px 2px rgba(0, 0, 0, 0.3));\n",
              "      fill: #FFFFFF;\n",
              "    }\n",
              "  </style>\n",
              "\n",
              "      <script>\n",
              "        const buttonEl =\n",
              "          document.querySelector('#df-5baf5291-b421-4c4d-aa14-aaa6542de737 button.colab-df-convert');\n",
              "        buttonEl.style.display =\n",
              "          google.colab.kernel.accessAllowed ? 'block' : 'none';\n",
              "\n",
              "        async function convertToInteractive(key) {\n",
              "          const element = document.querySelector('#df-5baf5291-b421-4c4d-aa14-aaa6542de737');\n",
              "          const dataTable =\n",
              "            await google.colab.kernel.invokeFunction('convertToInteractive',\n",
              "                                                     [key], {});\n",
              "          if (!dataTable) return;\n",
              "\n",
              "          const docLinkHtml = 'Like what you see? Visit the ' +\n",
              "            '<a target=\"_blank\" href=https://colab.research.google.com/notebooks/data_table.ipynb>data table notebook</a>'\n",
              "            + ' to learn more about interactive tables.';\n",
              "          element.innerHTML = '';\n",
              "          dataTable['output_type'] = 'display_data';\n",
              "          await google.colab.output.renderOutput(dataTable, element);\n",
              "          const docLink = document.createElement('div');\n",
              "          docLink.innerHTML = docLinkHtml;\n",
              "          element.appendChild(docLink);\n",
              "        }\n",
              "      </script>\n",
              "    </div>\n",
              "  </div>\n",
              "  "
            ],
            "text/plain": [
              "          CLIENT ID      NB PRODS      ORDER ID\n",
              "count  6.691200e+04  66912.000000  6.691200e+04\n",
              "mean   2.613407e+07      4.528112  6.722533e+08\n",
              "std    8.473596e+06      5.788227  3.205826e+06\n",
              "min    1.807050e+07    -80.000000  6.638335e+08\n",
              "25%    2.017427e+07      1.000000  6.694803e+08\n",
              "50%    2.438055e+07      3.000000  6.719971e+08\n",
              "75%    2.538708e+07      5.000000  6.750893e+08\n",
              "max    4.836586e+07    198.000000  6.832132e+08"
            ]
          },
          "metadata": {},
          "execution_count": 172
        }
      ]
    },
    {
      "cell_type": "markdown",
      "source": [
        "Si bien el ID único del cliente y del pedido no son relevantes, se observa la variable 'NB PRODS' correspondiente al número de productos de la variedad de fruta en el pedido, donde una unidad de producto equivale a diez piezas de fruta.\n",
        "\n",
        "En este caso, se observa que el mínimo corresponde a un valor negativo de -80, que no tiene ningún sentido al estar hablando de número de productos (es decir, NB_PRODS debe de ser un número entero positivo siempre).\n",
        "\n",
        "A continuación se puede ver en el boxplot la presencia de este conjunto de valores negativos:"
      ],
      "metadata": {
        "id": "nZ9d6_6HqcwI"
      }
    },
    {
      "cell_type": "code",
      "source": [
        "sns.boxplot(data=orders, x = 'NB PRODS')"
      ],
      "metadata": {
        "colab": {
          "base_uri": "https://localhost:8080/",
          "height": 514
        },
        "id": "Q_JYQ2tArEEq",
        "outputId": "fb873806-258c-4593-a6c3-0cd238ecf249"
      },
      "execution_count": 173,
      "outputs": [
        {
          "output_type": "execute_result",
          "data": {
            "text/plain": [
              "<matplotlib.axes._subplots.AxesSubplot at 0x7f851ec95ed0>"
            ]
          },
          "metadata": {},
          "execution_count": 173
        },
        {
          "output_type": "display_data",
          "data": {
            "image/png": "[encoded data removed]",
            "text/plain": [
              "<Figure size 864x576 with 1 Axes>"
            ]
          },
          "metadata": {}
        }
      ]
    },
    {
      "cell_type": "markdown",
      "source": [
        "Una opción sería considerar al conjunto de valores negativos error humano a la hora de introducir el dato, y en ese sentido se podría tomar el valor absoluto de éstos con el fin de tener un estudio estadístico correcto.\n",
        "\n",
        "En este caso se desconoce el origen de los datos por lo que se opta a considerarlos un error y por lo tanto eliminarlos del conjunto de datos.\n",
        "\n",
        "Algo similar ocurre con los valores otuliers, falta un conocimiento del dominio para determinar si realmente son otuliers que se deben eliminar o si por el contrario tienen sentido dentro del conjunto de datos y por ello se deben de mantener. \n",
        "\n",
        "Por ejemplo, el máximo de 198 pedidos (equilavente a 1980 piezas de fruta) no parece tener demasiado sentido para un cliente particular, pero sí para un mayorista o un gran restaurante. En este caso, se deciden mantener estos valores y únicamente se eliminan aquellos negativos."
      ],
      "metadata": {
        "id": "I_ZGE2UTVlQk"
      }
    },
    {
      "cell_type": "code",
      "source": [
        "# generamos nuevo dataset con únicamente valores positivos para la variable NN PRODS\n",
        "orders_filtered = orders[(orders['NB PRODS']>0)]\n",
        "\n",
        "sns.boxplot(data=orders_filtered, x = 'NB PRODS')\n",
        "\n",
        "# vemos cuánto representa haber eliminado el conjunto de valores negativos\n",
        "print('representación de los valores negativos:',round((len(orders)-len(orders_filtered))*100/len(orders),2),'% del dataset original')"
      ],
      "metadata": {
        "colab": {
          "base_uri": "https://localhost:8080/",
          "height": 514
        },
        "id": "lMIwACmBzHq0",
        "outputId": "05574275-b1ab-409c-ffc8-0bfb80334225"
      },
      "execution_count": 174,
      "outputs": [
        {
          "output_type": "stream",
          "name": "stdout",
          "text": [
            "representación de los valores negativos: 0.54 % del dataset original\n"
          ]
        },
        {
          "output_type": "display_data",
          "data": {
            "image/png": "[encoded data removed]",
            "text/plain": [
              "<Figure size 864x576 with 1 Axes>"
            ]
          },
          "metadata": {}
        }
      ]
    },
    {
      "cell_type": "markdown",
      "source": [
        "Vamos a analizar cuáles son las variedades de fruta más vendidas."
      ],
      "metadata": {
        "id": "DMWhTXIba6-E"
      }
    },
    {
      "cell_type": "code",
      "source": [
        "# orders_filtered['FRUIT_PRODUCT'].value_counts().index -> para ordenar de mayor a menor por frecuencia de aparición\n",
        "\n",
        "orders_filtered=orders_filtered.copy() #hacemos copy del dataset\n",
        "\n",
        "# ordenamos el dataset utilizando las 'frutas' como índice, siendo el orden ascendente según la frecuencia de aparición de la fruta en el dataset\n",
        "orders_filtered['FRUIT_PRODUCT']= pd.Categorical(orders_filtered['FRUIT_PRODUCT'],categories=['Kiwi', 'Orange', 'Lemon', 'Cheery', 'Nuwe Fruit', 'Pear', 'Nectarine',\n",
        "       'Apple', 'Banana', 'Grape', 'Coconut', 'Apricot', 'Devil Fruit',\n",
        "       'Papaya', 'Mango', 'Plum', 'Blueberry', 'Lime', 'Strawberry',\n",
        "       'Pomegranate', 'Watermelon', 'Melon', 'Pineapple', 'Jackfruit'], ordered= True )\n",
        "\n",
        "# esta ejecución no es especialmente relevante, pero hará que el plot que se muestre ordene el histograma de mayor a menor, facilitando su interpretación"
      ],
      "metadata": {
        "id": "rODhwyeOYZeJ"
      },
      "execution_count": 175,
      "outputs": []
    },
    {
      "cell_type": "code",
      "source": [
        "plt.figure(figsize=(13,10))\n",
        "sns.countplot(data=orders_filtered, x ='FRUIT_PRODUCT', color='skyblue') \n",
        "plt.xticks(rotation=90)\n",
        "plt.show()"
      ],
      "metadata": {
        "colab": {
          "base_uri": "https://localhost:8080/",
          "height": 663
        },
        "id": "xgaExSjuYZkD",
        "outputId": "8c9fdedf-56b9-43a9-8181-ebb28d22d6d1"
      },
      "execution_count": 176,
      "outputs": [
        {
          "output_type": "display_data",
          "data": {
            "image/png": "[encoded data removed]",
            "text/plain": [
              "<Figure size 936x720 with 1 Axes>"
            ]
          },
          "metadata": {}
        }
      ]
    },
    {
      "cell_type": "markdown",
      "source": [
        "Observamos que la mayor parte de los pedidos son los relacionados con las frutas como el Kiwi, seguido de las Naranjas, el Limón y la cereza.\n",
        "Al mismo tiempo, los pedidos relacionados con el Melón, la Piña o el Jackfruit, representan el menor número de pedidos.\n",
        "\n",
        "Cada una de las variedades de fruta requeriría un análisis más detallado acerca de posibles presencias de otuliers.\n",
        "\n",
        "A continuación se analiza la relación de cada una de las variedades de fruta (sin representación visual de outlrs) con respecto a la variable 'NB PRODS':"
      ],
      "metadata": {
        "id": "6glJdzHkcAjE"
      }
    },
    {
      "cell_type": "code",
      "source": [
        "plt.figure(figsize=(15,10))\n",
        "sns.boxplot(data=orders_filtered,y='FRUIT_PRODUCT', x = 'NB PRODS', showfliers=False)"
      ],
      "metadata": {
        "colab": {
          "base_uri": "https://localhost:8080/",
          "height": 623
        },
        "id": "SXIhAscAYZly",
        "outputId": "52fdf271-2f96-438c-c155-744a8ceed392"
      },
      "execution_count": 177,
      "outputs": [
        {
          "output_type": "execute_result",
          "data": {
            "text/plain": [
              "<matplotlib.axes._subplots.AxesSubplot at 0x7f851eb5efd0>"
            ]
          },
          "metadata": {},
          "execution_count": 177
        },
        {
          "output_type": "display_data",
          "data": {
            "image/png": "[encoded data removed]",
            "text/plain": [
              "<Figure size 1080x720 with 1 Axes>"
            ]
          },
          "metadata": {}
        }
      ]
    },
    {
      "cell_type": "markdown",
      "source": [
        "Se comprueba que las frutas con las medias en la variable 'NB PRODS' más elevadas se corresponden a las frutas con más representación, como el Kiwi, la Naranja, el Limón, la Cereza, la NuweFruit, la Pera y la Nectarina. Esto tiene sentido, ya que se espera que haya una relación directa entre la cantidad de pedidos de una determinada variedad de fruta y el número de piezas de fruta de ésta en cada pedido.\n",
        "\n",
        "Aunque existen algunas excepciones, por ejemplo, si se observa la Manzana (que ocupa el 8acto lugar en mayor representación de pedidos) tiene un valor medio menor (1.95) que al de otras frutas con menor representación, lo que significa que esta pieza de fruta aparece en muchos pedidos, pero se compran menos unidades en términos de piezas de producto (= NB PRODS).\n",
        "\n",
        "En contraste con la manzana, por ejemplo, la Papaya teniendo una frecuencia de aparición considerablemente menor que la Manzana, tiene una media en NB PRODS de 4.3, lo que significa que, siendo una fruta que aparece en menor cantidad de pedidos que la manzana, cuando se compra, se compra una mayor cantidad de piezas del producto.\n",
        "\n",
        "Se podría ir realizando un análisis semejante para cada una de las variedades de fruta.\n",
        "\n",
        "Con todo esto, ha quedado claro la relación entre las ventas y los distintos tipos de frutas así como la relativa correlación existente entre la frequencia de pedidos de una variedad de fruta y el número de piezas de fruta en cada pedido.\n",
        "\n",
        "A continuación se pasa a analizar el dataset con información relativa a los clientes, con éste seremos capaces de estudiar el posible impacto de la promoción sobre las ventas.\n",
        "\n"
      ],
      "metadata": {
        "id": "INzNYYSufXwe"
      }
    },
    {
      "cell_type": "code",
      "source": [
        "# comenzamos igual que antes con una inspección visual del dataset\n",
        "clients.head()"
      ],
      "metadata": {
        "colab": {
          "base_uri": "https://localhost:8080/",
          "height": 206
        },
        "id": "MQ6En9r2YZvp",
        "outputId": "1691b429-412a-46d2-fef3-f6136db65410"
      },
      "execution_count": 178,
      "outputs": [
        {
          "output_type": "execute_result",
          "data": {
            "text/html": [
              "\n",
              "  <div id=\"df-78c259ef-331c-4db5-9163-61a3f2cd3074\">\n",
              "    <div class=\"colab-df-container\">\n",
              "      <div>\n",
              "<style scoped>\n",
              "    .dataframe tbody tr th:only-of-type {\n",
              "        vertical-align: middle;\n",
              "    }\n",
              "\n",
              "    .dataframe tbody tr th {\n",
              "        vertical-align: top;\n",
              "    }\n",
              "\n",
              "    .dataframe thead th {\n",
              "        text-align: right;\n",
              "    }\n",
              "</style>\n",
              "<table border=\"1\" class=\"dataframe\">\n",
              "  <thead>\n",
              "    <tr style=\"text-align: right;\">\n",
              "      <th></th>\n",
              "      <th>CLIENT ID</th>\n",
              "      <th>CLIENT_SEGMENT</th>\n",
              "      <th>AVG CONSO</th>\n",
              "      <th>AVG BASKET SIZE</th>\n",
              "      <th>RECEIVED_COMMUNICATION</th>\n",
              "    </tr>\n",
              "  </thead>\n",
              "  <tbody>\n",
              "    <tr>\n",
              "      <th>0</th>\n",
              "      <td>24321771</td>\n",
              "      <td>6</td>\n",
              "      <td>67.25</td>\n",
              "      <td>201.75</td>\n",
              "      <td>0</td>\n",
              "    </tr>\n",
              "    <tr>\n",
              "      <th>1</th>\n",
              "      <td>24321859</td>\n",
              "      <td>2</td>\n",
              "      <td>58.33</td>\n",
              "      <td>350.00</td>\n",
              "      <td>0</td>\n",
              "    </tr>\n",
              "    <tr>\n",
              "      <th>2</th>\n",
              "      <td>24321880</td>\n",
              "      <td>3</td>\n",
              "      <td>46.67</td>\n",
              "      <td>112.00</td>\n",
              "      <td>0</td>\n",
              "    </tr>\n",
              "    <tr>\n",
              "      <th>3</th>\n",
              "      <td>24321957</td>\n",
              "      <td>2</td>\n",
              "      <td>50.00</td>\n",
              "      <td>600.00</td>\n",
              "      <td>0</td>\n",
              "    </tr>\n",
              "    <tr>\n",
              "      <th>4</th>\n",
              "      <td>24321962</td>\n",
              "      <td>4</td>\n",
              "      <td>10.00</td>\n",
              "      <td>120.00</td>\n",
              "      <td>0</td>\n",
              "    </tr>\n",
              "  </tbody>\n",
              "</table>\n",
              "</div>\n",
              "      <button class=\"colab-df-convert\" onclick=\"convertToInteractive('df-78c259ef-331c-4db5-9163-61a3f2cd3074')\"\n",
              "              title=\"Convert this dataframe to an interactive table.\"\n",
              "              style=\"display:none;\">\n",
              "        \n",
              "  <svg xmlns=\"http://www.w3.org/2000/svg\" height=\"24px\"viewBox=\"0 0 24 24\"\n",
              "       width=\"24px\">\n",
              "    <path d=\"M0 0h24v24H0V0z\" fill=\"none\"/>\n",
              "    <path d=\"M18.56 5.44l.94 2.06.94-2.06 2.06-.94-2.06-.94-.94-2.06-.94 2.06-2.06.94zm-11 1L8.5 8.5l.94-2.06 2.06-.94-2.06-.94L8.5 2.5l-.94 2.06-2.06.94zm10 10l.94 2.06.94-2.06 2.06-.94-2.06-.94-.94-2.06-.94 2.06-2.06.94z\"/><path d=\"M17.41 7.96l-1.37-1.37c-.4-.4-.92-.59-1.43-.59-.52 0-1.04.2-1.43.59L10.3 9.45l-7.72 7.72c-.78.78-.78 2.05 0 2.83L4 21.41c.39.39.9.59 1.41.59.51 0 1.02-.2 1.41-.59l7.78-7.78 2.81-2.81c.8-.78.8-2.07 0-2.86zM5.41 20L4 18.59l7.72-7.72 1.47 1.35L5.41 20z\"/>\n",
              "  </svg>\n",
              "      </button>\n",
              "      \n",
              "  <style>\n",
              "    .colab-df-container {\n",
              "      display:flex;\n",
              "      flex-wrap:wrap;\n",
              "      gap: 12px;\n",
              "    }\n",
              "\n",
              "    .colab-df-convert {\n",
              "      background-color: #E8F0FE;\n",
              "      border: none;\n",
              "      border-radius: 50%;\n",
              "      cursor: pointer;\n",
              "      display: none;\n",
              "      fill: #1967D2;\n",
              "      height: 32px;\n",
              "      padding: 0 0 0 0;\n",
              "      width: 32px;\n",
              "    }\n",
              "\n",
              "    .colab-df-convert:hover {\n",
              "      background-color: #E2EBFA;\n",
              "      box-shadow: 0px 1px 2px rgba(60, 64, 67, 0.3), 0px 1px 3px 1px rgba(60, 64, 67, 0.15);\n",
              "      fill: #174EA6;\n",
              "    }\n",
              "\n",
              "    [theme=dark] .colab-df-convert {\n",
              "      background-color: #3B4455;\n",
              "      fill: #D2E3FC;\n",
              "    }\n",
              "\n",
              "    [theme=dark] .colab-df-convert:hover {\n",
              "      background-color: #434B5C;\n",
              "      box-shadow: 0px 1px 3px 1px rgba(0, 0, 0, 0.15);\n",
              "      filter: drop-shadow(0px 1px 2px rgba(0, 0, 0, 0.3));\n",
              "      fill: #FFFFFF;\n",
              "    }\n",
              "  </style>\n",
              "\n",
              "      <script>\n",
              "        const buttonEl =\n",
              "          document.querySelector('#df-78c259ef-331c-4db5-9163-61a3f2cd3074 button.colab-df-convert');\n",
              "        buttonEl.style.display =\n",
              "          google.colab.kernel.accessAllowed ? 'block' : 'none';\n",
              "\n",
              "        async function convertToInteractive(key) {\n",
              "          const element = document.querySelector('#df-78c259ef-331c-4db5-9163-61a3f2cd3074');\n",
              "          const dataTable =\n",
              "            await google.colab.kernel.invokeFunction('convertToInteractive',\n",
              "                                                     [key], {});\n",
              "          if (!dataTable) return;\n",
              "\n",
              "          const docLinkHtml = 'Like what you see? Visit the ' +\n",
              "            '<a target=\"_blank\" href=https://colab.research.google.com/notebooks/data_table.ipynb>data table notebook</a>'\n",
              "            + ' to learn more about interactive tables.';\n",
              "          element.innerHTML = '';\n",
              "          dataTable['output_type'] = 'display_data';\n",
              "          await google.colab.output.renderOutput(dataTable, element);\n",
              "          const docLink = document.createElement('div');\n",
              "          docLink.innerHTML = docLinkHtml;\n",
              "          element.appendChild(docLink);\n",
              "        }\n",
              "      </script>\n",
              "    </div>\n",
              "  </div>\n",
              "  "
            ],
            "text/plain": [
              "   CLIENT ID  CLIENT_SEGMENT  ...  AVG BASKET SIZE  RECEIVED_COMMUNICATION\n",
              "0   24321771               6  ...           201.75                       0\n",
              "1   24321859               2  ...           350.00                       0\n",
              "2   24321880               3  ...           112.00                       0\n",
              "3   24321957               2  ...           600.00                       0\n",
              "4   24321962               4  ...           120.00                       0\n",
              "\n",
              "[5 rows x 5 columns]"
            ]
          },
          "metadata": {},
          "execution_count": 178
        }
      ]
    },
    {
      "cell_type": "code",
      "source": [
        "# información más detallada del contenido del dataset y del tipo de variables que éste contiene\n",
        "clients.info()"
      ],
      "metadata": {
        "colab": {
          "base_uri": "https://localhost:8080/"
        },
        "id": "ZgQCuOIdNHrU",
        "outputId": "68c1d7d7-6206-46b1-9477-d95df3ddc6d2"
      },
      "execution_count": 179,
      "outputs": [
        {
          "output_type": "stream",
          "name": "stdout",
          "text": [
            "<class 'pandas.core.frame.DataFrame'>\n",
            "RangeIndex: 35884 entries, 0 to 35883\n",
            "Data columns (total 5 columns):\n",
            " #   Column                  Non-Null Count  Dtype  \n",
            "---  ------                  --------------  -----  \n",
            " 0   CLIENT ID               35884 non-null  int64  \n",
            " 1   CLIENT_SEGMENT          35884 non-null  int64  \n",
            " 2   AVG CONSO               35884 non-null  float64\n",
            " 3   AVG BASKET SIZE         35884 non-null  float64\n",
            " 4   RECEIVED_COMMUNICATION  35884 non-null  int64  \n",
            "dtypes: float64(2), int64(3)\n",
            "memory usage: 1.4 MB\n"
          ]
        }
      ]
    },
    {
      "cell_type": "code",
      "source": [
        "# Inspección de si tenemos NaN o similar\n",
        "clients.isnull().values.any()"
      ],
      "metadata": {
        "colab": {
          "base_uri": "https://localhost:8080/"
        },
        "id": "aDHAJKVoCgbc",
        "outputId": "967abb43-30d0-4a4c-95be-f2d81fc0b32f"
      },
      "execution_count": 180,
      "outputs": [
        {
          "output_type": "execute_result",
          "data": {
            "text/plain": [
              "False"
            ]
          },
          "metadata": {},
          "execution_count": 180
        }
      ]
    },
    {
      "cell_type": "code",
      "source": [
        "# Alguna información estadística acerca del dataset\n",
        "clients.describe()"
      ],
      "metadata": {
        "colab": {
          "base_uri": "https://localhost:8080/",
          "height": 300
        },
        "id": "y6sJUr6hCoj0",
        "outputId": "65d099d7-f5ad-498f-f4b5-39589afb4916"
      },
      "execution_count": 181,
      "outputs": [
        {
          "output_type": "execute_result",
          "data": {
            "text/html": [
              "\n",
              "  <div id=\"df-8fe7bb5b-042a-4347-9cab-8cb83b40584b\">\n",
              "    <div class=\"colab-df-container\">\n",
              "      <div>\n",
              "<style scoped>\n",
              "    .dataframe tbody tr th:only-of-type {\n",
              "        vertical-align: middle;\n",
              "    }\n",
              "\n",
              "    .dataframe tbody tr th {\n",
              "        vertical-align: top;\n",
              "    }\n",
              "\n",
              "    .dataframe thead th {\n",
              "        text-align: right;\n",
              "    }\n",
              "</style>\n",
              "<table border=\"1\" class=\"dataframe\">\n",
              "  <thead>\n",
              "    <tr style=\"text-align: right;\">\n",
              "      <th></th>\n",
              "      <th>CLIENT ID</th>\n",
              "      <th>CLIENT_SEGMENT</th>\n",
              "      <th>AVG CONSO</th>\n",
              "      <th>AVG BASKET SIZE</th>\n",
              "      <th>RECEIVED_COMMUNICATION</th>\n",
              "    </tr>\n",
              "  </thead>\n",
              "  <tbody>\n",
              "    <tr>\n",
              "      <th>count</th>\n",
              "      <td>3.588400e+04</td>\n",
              "      <td>35884.000000</td>\n",
              "      <td>35884.000000</td>\n",
              "      <td>35884.000000</td>\n",
              "      <td>35884.000000</td>\n",
              "    </tr>\n",
              "    <tr>\n",
              "      <th>mean</th>\n",
              "      <td>2.706058e+07</td>\n",
              "      <td>3.123593</td>\n",
              "      <td>64.534437</td>\n",
              "      <td>181.218610</td>\n",
              "      <td>0.507998</td>\n",
              "    </tr>\n",
              "    <tr>\n",
              "      <th>std</th>\n",
              "      <td>8.835076e+06</td>\n",
              "      <td>1.512932</td>\n",
              "      <td>64.381932</td>\n",
              "      <td>129.604691</td>\n",
              "      <td>0.499943</td>\n",
              "    </tr>\n",
              "    <tr>\n",
              "      <th>min</th>\n",
              "      <td>1.807311e+07</td>\n",
              "      <td>1.000000</td>\n",
              "      <td>0.830000</td>\n",
              "      <td>10.000000</td>\n",
              "      <td>0.000000</td>\n",
              "    </tr>\n",
              "    <tr>\n",
              "      <th>25%</th>\n",
              "      <td>2.053311e+07</td>\n",
              "      <td>2.000000</td>\n",
              "      <td>20.830000</td>\n",
              "      <td>100.000000</td>\n",
              "      <td>0.000000</td>\n",
              "    </tr>\n",
              "    <tr>\n",
              "      <th>50%</th>\n",
              "      <td>2.462190e+07</td>\n",
              "      <td>3.000000</td>\n",
              "      <td>50.000000</td>\n",
              "      <td>160.000000</td>\n",
              "      <td>1.000000</td>\n",
              "    </tr>\n",
              "    <tr>\n",
              "      <th>75%</th>\n",
              "      <td>3.298538e+07</td>\n",
              "      <td>4.000000</td>\n",
              "      <td>88.170000</td>\n",
              "      <td>225.000000</td>\n",
              "      <td>1.000000</td>\n",
              "    </tr>\n",
              "    <tr>\n",
              "      <th>max</th>\n",
              "      <td>4.836594e+07</td>\n",
              "      <td>6.000000</td>\n",
              "      <td>2433.330000</td>\n",
              "      <td>3400.200000</td>\n",
              "      <td>1.000000</td>\n",
              "    </tr>\n",
              "  </tbody>\n",
              "</table>\n",
              "</div>\n",
              "      <button class=\"colab-df-convert\" onclick=\"convertToInteractive('df-8fe7bb5b-042a-4347-9cab-8cb83b40584b')\"\n",
              "              title=\"Convert this dataframe to an interactive table.\"\n",
              "              style=\"display:none;\">\n",
              "        \n",
              "  <svg xmlns=\"http://www.w3.org/2000/svg\" height=\"24px\"viewBox=\"0 0 24 24\"\n",
              "       width=\"24px\">\n",
              "    <path d=\"M0 0h24v24H0V0z\" fill=\"none\"/>\n",
              "    <path d=\"M18.56 5.44l.94 2.06.94-2.06 2.06-.94-2.06-.94-.94-2.06-.94 2.06-2.06.94zm-11 1L8.5 8.5l.94-2.06 2.06-.94-2.06-.94L8.5 2.5l-.94 2.06-2.06.94zm10 10l.94 2.06.94-2.06 2.06-.94-2.06-.94-.94-2.06-.94 2.06-2.06.94z\"/><path d=\"M17.41 7.96l-1.37-1.37c-.4-.4-.92-.59-1.43-.59-.52 0-1.04.2-1.43.59L10.3 9.45l-7.72 7.72c-.78.78-.78 2.05 0 2.83L4 21.41c.39.39.9.59 1.41.59.51 0 1.02-.2 1.41-.59l7.78-7.78 2.81-2.81c.8-.78.8-2.07 0-2.86zM5.41 20L4 18.59l7.72-7.72 1.47 1.35L5.41 20z\"/>\n",
              "  </svg>\n",
              "      </button>\n",
              "      \n",
              "  <style>\n",
              "    .colab-df-container {\n",
              "      display:flex;\n",
              "      flex-wrap:wrap;\n",
              "      gap: 12px;\n",
              "    }\n",
              "\n",
              "    .colab-df-convert {\n",
              "      background-color: #E8F0FE;\n",
              "      border: none;\n",
              "      border-radius: 50%;\n",
              "      cursor: pointer;\n",
              "      display: none;\n",
              "      fill: #1967D2;\n",
              "      height: 32px;\n",
              "      padding: 0 0 0 0;\n",
              "      width: 32px;\n",
              "    }\n",
              "\n",
              "    .colab-df-convert:hover {\n",
              "      background-color: #E2EBFA;\n",
              "      box-shadow: 0px 1px 2px rgba(60, 64, 67, 0.3), 0px 1px 3px 1px rgba(60, 64, 67, 0.15);\n",
              "      fill: #174EA6;\n",
              "    }\n",
              "\n",
              "    [theme=dark] .colab-df-convert {\n",
              "      background-color: #3B4455;\n",
              "      fill: #D2E3FC;\n",
              "    }\n",
              "\n",
              "    [theme=dark] .colab-df-convert:hover {\n",
              "      background-color: #434B5C;\n",
              "      box-shadow: 0px 1px 3px 1px rgba(0, 0, 0, 0.15);\n",
              "      filter: drop-shadow(0px 1px 2px rgba(0, 0, 0, 0.3));\n",
              "      fill: #FFFFFF;\n",
              "    }\n",
              "  </style>\n",
              "\n",
              "      <script>\n",
              "        const buttonEl =\n",
              "          document.querySelector('#df-8fe7bb5b-042a-4347-9cab-8cb83b40584b button.colab-df-convert');\n",
              "        buttonEl.style.display =\n",
              "          google.colab.kernel.accessAllowed ? 'block' : 'none';\n",
              "\n",
              "        async function convertToInteractive(key) {\n",
              "          const element = document.querySelector('#df-8fe7bb5b-042a-4347-9cab-8cb83b40584b');\n",
              "          const dataTable =\n",
              "            await google.colab.kernel.invokeFunction('convertToInteractive',\n",
              "                                                     [key], {});\n",
              "          if (!dataTable) return;\n",
              "\n",
              "          const docLinkHtml = 'Like what you see? Visit the ' +\n",
              "            '<a target=\"_blank\" href=https://colab.research.google.com/notebooks/data_table.ipynb>data table notebook</a>'\n",
              "            + ' to learn more about interactive tables.';\n",
              "          element.innerHTML = '';\n",
              "          dataTable['output_type'] = 'display_data';\n",
              "          await google.colab.output.renderOutput(dataTable, element);\n",
              "          const docLink = document.createElement('div');\n",
              "          docLink.innerHTML = docLinkHtml;\n",
              "          element.appendChild(docLink);\n",
              "        }\n",
              "      </script>\n",
              "    </div>\n",
              "  </div>\n",
              "  "
            ],
            "text/plain": [
              "          CLIENT ID  CLIENT_SEGMENT  ...  AVG BASKET SIZE  RECEIVED_COMMUNICATION\n",
              "count  3.588400e+04    35884.000000  ...     35884.000000            35884.000000\n",
              "mean   2.706058e+07        3.123593  ...       181.218610                0.507998\n",
              "std    8.835076e+06        1.512932  ...       129.604691                0.499943\n",
              "min    1.807311e+07        1.000000  ...        10.000000                0.000000\n",
              "25%    2.053311e+07        2.000000  ...       100.000000                0.000000\n",
              "50%    2.462190e+07        3.000000  ...       160.000000                1.000000\n",
              "75%    3.298538e+07        4.000000  ...       225.000000                1.000000\n",
              "max    4.836594e+07        6.000000  ...      3400.200000                1.000000\n",
              "\n",
              "[8 rows x 5 columns]"
            ]
          },
          "metadata": {},
          "execution_count": 181
        }
      ]
    },
    {
      "cell_type": "markdown",
      "source": [
        "Volvemos a notar posible presencia de outliers para las variables consumo medio (AVG CONSO) y tamaño medio de la cesta (AVG BASKET SIZE).\n",
        "\n",
        "Por ejemplo, para la variable 'AVG CONSO' se observa que su valor medio se situa en 64.5, esto es, un consumo medio de 64 piezas de fruta al mes, que equivaldría a un consumo medio de 2 piezas de fruta al día, algo asequible y razonable para un ser humano.\n",
        "\n",
        "Sin embargo, esta misma variable tiene valores mucho más elevados, hasta un máximo de 2433 piezas de fruta mensuales, que equivaldría a un consumo medio de más de 40 piezas de fruta al día, lo cual no parece nada realista para un ser humano.\n",
        "\n",
        "Nuevamente sería necesario un mayor conocimiento del dominio para considerar si estos valores son en efecto otuliers o si bien pertenecen a valores asociados a grandes organismos como mayoristas y restaurantes que también son clientes habituales de la empresa.\n",
        "\n",
        "En el siguiente boxplot se pueden ver claramente esa cantidad de valores 'atípicos' que se alejan estadísticamente del resto de datos.\n",
        "\n",
        "En efecto, se puede observar que a partir del 'AVG CONSO'= 225 (correspondiente al cuartil Q3) se tiene todo un rango de valores comprendido entre [230,2433] que son valores que podrían corresponder a grandes comercios con un consumo medio mensual mucho más elevado que el resto de clientes particulares.\n",
        "\n",
        "Algo muy semejante ocurriría con la variable 'AVG BASKET SIZE', la cual tiene también un amplio rango de valores estadísticamente atípico que nuevamente requiriría un mayor conocimiento del dominio para su correcto tratamiento."
      ],
      "metadata": {
        "id": "051lMqm1jQkk"
      }
    },
    {
      "cell_type": "code",
      "source": [
        "sns.boxplot(data = clients, x = 'AVG CONSO') # boxplot para la variable 'AVG CONSO'\n",
        "\n"
      ],
      "metadata": {
        "colab": {
          "base_uri": "https://localhost:8080/",
          "height": 514
        },
        "id": "pW27BNqWTbbt",
        "outputId": "71ef29e3-6ee4-403e-fc3c-f341566ce8aa"
      },
      "execution_count": 182,
      "outputs": [
        {
          "output_type": "execute_result",
          "data": {
            "text/plain": [
              "<matplotlib.axes._subplots.AxesSubplot at 0x7f851e86cf10>"
            ]
          },
          "metadata": {},
          "execution_count": 182
        },
        {
          "output_type": "display_data",
          "data": {
            "image/png": "[encoded data removed]",
            "text/plain": [
              "<Figure size 864x576 with 1 Axes>"
            ]
          },
          "metadata": {}
        }
      ]
    },
    {
      "cell_type": "markdown",
      "source": [
        "En este caso, se ha optado por finalmente mantener todo el conjunto de datos. Se puede probar que, eliminando el conjunto de valores atípicos potencialmente outliers los modelos predictivos empeoran, especialmente a la hora de predecir correctamente los clientes del segmento 6.\n",
        "\n",
        "Así pues, por ese motivo y por la falta de conocimiento del dominio se decide mantener íntegramente el conjunto total de datos.\n",
        "\n",
        "Con el fin de estudiar si hay un impacto real de las promociones ('received_communication) o no, se procede a realizar un boxplot comparativo para cada uno de las segmentación de los clientes, tal y como se muestra a continuación."
      ],
      "metadata": {
        "id": "H9TuHu8jlLZz"
      }
    },
    {
      "cell_type": "code",
      "source": [
        "# boxplots para la variable 'AVG CONSO' según el tipo de segmentación del cliente y de si recibió o no promoción\n",
        "\n",
        "plt.figure(figsize=(15,10))\n",
        "sns.boxplot(data = clients, x = 'CLIENT_SEGMENT',hue = 'RECEIVED_COMMUNICATION', y = 'AVG CONSO', notch=True,showfliers=False, color='skyblue')"
      ],
      "metadata": {
        "colab": {
          "base_uri": "https://localhost:8080/",
          "height": 623
        },
        "id": "-ekFrmPJdq8v",
        "outputId": "1d5a9759-3f8e-4ec4-a4b9-0e80b5d9540e"
      },
      "execution_count": 183,
      "outputs": [
        {
          "output_type": "execute_result",
          "data": {
            "text/plain": [
              "<matplotlib.axes._subplots.AxesSubplot at 0x7f851eb73d50>"
            ]
          },
          "metadata": {},
          "execution_count": 183
        },
        {
          "output_type": "display_data",
          "data": {
            "image/png": "[encoded data removed]",
            "text/plain": [
              "<Figure size 1080x720 with 1 Axes>"
            ]
          },
          "metadata": {}
        }
      ]
    },
    {
      "cell_type": "markdown",
      "source": [
        "Del gráfico de boxplots anterior, se puede concluir claramente el impacto positivo de la promoción en el consumo medio de los clientes. Esto es, cuando el cliente ha recibido una promoción (received_communication=1) el consumo medio mensual del cliente es mayor que cuando éste no ha recibido promoción (received_communication=0). Esto se observa se cumple para todas las segmentaciones de los clientes, donde la media en el consumo medio mensual es mayor para los clientes que recibieron promoción. Únicamente para los clientes del segmento 5 se observa una diferencia muy ajustada tanto para los clientes con promocición como para los que no la recibieron.\n",
        "\n",
        "Si bien el impacto de la promoción en el consumo medio mensual queda demostrado, es más relativo el impacto que tiene sobre el tamaño medio de la cesta del cliente ( medido en piezas de fruta), 'AVG BASKET SIZE', tal y como se muestra en el siguiente conjunto de boxplots.\n"
      ],
      "metadata": {
        "id": "EH0bjcaTrVVN"
      }
    },
    {
      "cell_type": "code",
      "source": [
        "# boxplots para la variable 'AVG BASKET SIZE' según el tipo de segmentación del cliente y de si recibió o no promoción\n",
        "\n",
        "plt.figure(figsize=(15,10))\n",
        "sns.boxplot(data = clients, x = 'CLIENT_SEGMENT',hue = 'RECEIVED_COMMUNICATION', y = 'AVG BASKET SIZE',showfliers=False, color='skyblue')"
      ],
      "metadata": {
        "colab": {
          "base_uri": "https://localhost:8080/",
          "height": 623
        },
        "id": "NPa_yYOJg2Jo",
        "outputId": "8d1cf7df-9b97-4840-e160-4dfdbb597066"
      },
      "execution_count": 184,
      "outputs": [
        {
          "output_type": "execute_result",
          "data": {
            "text/plain": [
              "<matplotlib.axes._subplots.AxesSubplot at 0x7f851e86c110>"
            ]
          },
          "metadata": {},
          "execution_count": 184
        },
        {
          "output_type": "display_data",
          "data": {
            "image/png": "[encoded data removed]",
            "text/plain": [
              "<Figure size 1080x720 with 1 Axes>"
            ]
          },
          "metadata": {}
        }
      ]
    },
    {
      "cell_type": "markdown",
      "source": [
        "\n",
        "En concreto, para los clientes de la segmentación del tipo 1, 2 y 6 se tiene que el tamaño medio de su cesta es mayor cuando reciben promoción que cuando no. Sin embargo, para los clientes con las segmentaciones 3, 4 y 5 se tiene unos valores medios de la cesta mucho más ajustados, siendo la diferencia muy poco notable para los clientes que recibieron promoción y los que no.\n",
        "\n",
        "Así pues, se puede concluir que la promoción tiene un impacto directo sobre el tamaño consumo medio mensual del cliente, independientemente de su segmentación. Y al mismo tiempo, la promoción tiene un impacto menor a la hora de determinar el tamaño medio de la cesta del cliente, siendo aquí más relevante el tipo se segmentación al que éste pertenece.\n",
        "\n",
        "Finalmente, es interesante notar la correlación media que presentan las variables 'AVG CONSO' y 'AVG BASKET SIZE', tal y como se muestra a continuación, situada en los 0.61.\n",
        "\n",
        "Por lo tanto, podemos concluir que, en general, un mayor consumo medio mensual del cliente implica un mayor tamaño medio de su cesta, lo cual no deje de tener sentido."
      ],
      "metadata": {
        "id": "LjU9lBP6uG7X"
      }
    },
    {
      "cell_type": "code",
      "source": [
        "# correlación entre las variables 'AVG CONSO' y 'AVG BASKET SIZE'\n",
        "clients['AVG CONSO'].corr(clients['AVG BASKET SIZE'])\n"
      ],
      "metadata": {
        "colab": {
          "base_uri": "https://localhost:8080/"
        },
        "id": "ES_m8DJGusxG",
        "outputId": "dde27ba9-6533-4d20-c610-f64a48ec4f10"
      },
      "execution_count": 185,
      "outputs": [
        {
          "output_type": "execute_result",
          "data": {
            "text/plain": [
              "0.6127491019381173"
            ]
          },
          "metadata": {},
          "execution_count": 185
        }
      ]
    },
    {
      "cell_type": "markdown",
      "source": [
        "#### MODELO PREDICTIVO\n",
        "\n",
        "El objetivo es realizar un modelo predictivo que permita conocer el tipo de segmento al que pertenece cada cliente en función de las variables predictoras: 'AVG CONSO', 'AVG BASKET SIZE', 'RECEIVED_COMMUNICATION'.\n",
        "\n",
        "Recordando el conjunto de datos que se va a usar, el dataset clients, éste constaba de un total de 35.884 registros (pedidos).\n",
        "\n",
        "Por otro lado, nuestro objetivo es resolver un problema de clasificación multi-label, al ser el Target que queremos predecir (CLIENT_SEGMENT) una variable categórica con seis posibles valores, uno para cada segmentación del cliente.\n",
        "\n",
        "En primer lugar, resulta interesante analizar la distribución de las clases del Target en el conjunto de datos, tal y como se hace a continuación."
      ],
      "metadata": {
        "id": "2dWsdWBYwh24"
      }
    },
    {
      "cell_type": "code",
      "source": [
        "# Se analiza la variable Target 'clients_segment' y cómo está distribuida\n",
        "\n",
        "sns.countplot(x='CLIENT_SEGMENT',data=clients,color='skyblue')\n",
        "\n",
        "# para ver numéricamente la representación de cada clase:\n",
        "\n",
        "total= len(clients) # tamaño total dataset\n",
        "segment_1 = len(clients[clients['CLIENT_SEGMENT']==1]) # total clase 1\n",
        "segment_2 = len(clients[clients['CLIENT_SEGMENT']==2]) # total clase 2\n",
        "segment_3 = len(clients[clients['CLIENT_SEGMENT']==3]) # total clase 3\n",
        "segment_4 = len(clients[clients['CLIENT_SEGMENT']==4]) # total clase 4\n",
        "segment_5 = len(clients[clients['CLIENT_SEGMENT']==5]) # total clase 5\n",
        "segment_6 = len(clients[clients['CLIENT_SEGMENT']==6]) # total clase 6\n",
        "\n",
        "print('segmento 1:', round(segment_1*100/total,2),'%') # representación de la clase 1 sobre el total\n",
        "print('segmento 2:', round(segment_2*100/total,2),'%') # representación de la clase 2 sobre el total\n",
        "print('segmento 3:', round(segment_3*100/total,2),'%') # representación de la clase 3 sobre el total\n",
        "print('segmento 4:', round(segment_4*100/total,2),'%') # representación de la clase 4 sobre el total\n",
        "print('segmento 5:', round(segment_5*100/total,2),'%') # representación de la clase 5 sobre el total\n",
        "print('segmento 6:', round(segment_6*100/total,2),'%') # representación de la clase 6 sobre el total\n",
        "\n"
      ],
      "metadata": {
        "colab": {
          "base_uri": "https://localhost:8080/",
          "height": 602
        },
        "id": "1gYyn5rjLkms",
        "outputId": "9ad17525-b20c-46b7-8c31-8db730e80664"
      },
      "execution_count": 165,
      "outputs": [
        {
          "output_type": "stream",
          "name": "stdout",
          "text": [
            "segmento 1: 18.13 %\n",
            "segmento 2: 18.84 %\n",
            "segmento 3: 22.64 %\n",
            "segmento 4: 22.09 %\n",
            "segmento 5: 9.56 %\n",
            "segmento 6: 8.75 %\n"
          ]
        },
        {
          "output_type": "display_data",
          "data": {
            "image/png": "[encoded data removed]",
            "text/plain": [
              "<Figure size 864x576 with 1 Axes>"
            ]
          },
          "metadata": {}
        }
      ]
    },
    {
      "cell_type": "markdown",
      "source": [
        "Tal y como se puede observar, las clases están balancedadas menos la clase 5 y 6 que son las que tienen menor representación, siendo la clase 6 la que tiene menor representación suponiendo solo el 8.8% del total de pedidos.\n",
        "\n",
        "Veremos si este desbalanceo puede perjudicar nuestro modelo y cómo mejorarlo.\n",
        "\n",
        "Empezamos a preparar el modelo predictivo."
      ],
      "metadata": {
        "id": "Jffu6haxzQce"
      }
    },
    {
      "cell_type": "code",
      "source": [
        "# renombramos dataset de trabajo\n",
        "df = clients\n",
        "\n",
        "# Separamos el dataset entre las variables predictoras y el target (objetivo)\n",
        "feature_cols = ['AVG CONSO', 'AVG BASKET SIZE', 'RECEIVED_COMMUNICATION']\n",
        "\n",
        "X = df[feature_cols] # Features (predictoras)\n",
        "y = df['CLIENT_SEGMENT'] # Target variable\n",
        "\n",
        "\n",
        "# separación del dataset en train/test para el entrenamiento y el testeo\n",
        "X_train, X_test, y_train, y_test = train_test_split( X, y, test_size=0.2, random_state=31415) # le definimos una seed para que los resultados sean reproducibles\n",
        "\n",
        "\n"
      ],
      "metadata": {
        "id": "7KhfaJKrEXFo"
      },
      "execution_count": 186,
      "outputs": []
    },
    {
      "cell_type": "markdown",
      "source": [
        "De cara a la elección del algoritmo, empezamos eligiendo algo básico como un Decision Tree (C4.5/CART) o un random forest que esencialmente construye distintos árboles de decisión. Probamos ambos algoritmos y comparamos su rendimiento en base a la métrica f1-macro."
      ],
      "metadata": {
        "id": "oFcyopVg0luG"
      }
    },
    {
      "cell_type": "code",
      "source": [
        "# Implementación de ambos modelos\n",
        "\n",
        "classifiers = {    \n",
        "    \"Random Forest\": RandomForestClassifier(),\n",
        "    \"DecisionTreeClassifier CART\": DecisionTreeClassifier(max_depth=7)\n",
        "}\n",
        "\n",
        "\n",
        "# Evaluamos su desempeño en base a métrica f1_score y empleando la técnica 'cross_validation' como conjunto validación del resultado de la métrica\n",
        "\n",
        "for key, classifier in classifiers.items():\n",
        "  classifier.fit(X_train, y_train)\n",
        "  training_score = cross_val_score(classifier, X_train, y_train, cv=5, scoring='f1_macro') # utilizamos un k-fold con k=5 para ahorrar en coste computacional\n",
        "  print(\"Classifiers: \", classifier.__class__.__name__, \"Has a training score of\", round(training_score.mean(), 2) , \"f1 (macro) scoring\")"
      ],
      "metadata": {
        "colab": {
          "base_uri": "https://localhost:8080/"
        },
        "id": "XdZdI_NIF1ZE",
        "outputId": "4600eba1-730d-47bc-fd83-9b026ae5ac5b"
      },
      "execution_count": 203,
      "outputs": [
        {
          "output_type": "stream",
          "name": "stdout",
          "text": [
            "Classifiers:  RandomForestClassifier Has a training score of 0.69 f1 (macro) scoring\n",
            "Classifiers:  DecisionTreeClassifier Has a training score of 0.7 f1 (macro) scoring\n"
          ]
        }
      ]
    },
    {
      "cell_type": "markdown",
      "source": [
        "Podemos ver que ambos modelos proporcionan un desempeño muy similar, siendo ligeramente superior el del DecisionTree por el cual decidimos seguir trabajando con él.\n",
        "\n",
        "A continuación, volvemos a lanzar el modelo DecisionTree y lo evaluamos sobre el conjunto test para ver su desempeño."
      ],
      "metadata": {
        "id": "07P994C71U2E"
      }
    },
    {
      "cell_type": "code",
      "source": [
        "# Definimos algoritmo clasificación, utilizamos una profundidad de arbol de 7 (es la que mejor ha resultado funcionar)\n",
        "clf = DecisionTreeClassifier(max_depth=7)\n",
        "\n",
        "# Entrenamos algoritmo\n",
        "clf = clf.fit(X_train,y_train)\n",
        "\n",
        "# Predecimos labels set testeo\n",
        "y_pred = clf.predict(X_test)\n",
        "\n",
        "# Imprimimos un reporting de los resultados de la evaluación del algoritmo\n",
        "print(metrics.classification_report(y_test, y_pred))"
      ],
      "metadata": {
        "colab": {
          "base_uri": "https://localhost:8080/"
        },
        "id": "laknYiOqF1dn",
        "outputId": "65e543b1-69b2-46ce-c76b-acbc90c235d8"
      },
      "execution_count": 204,
      "outputs": [
        {
          "output_type": "stream",
          "name": "stdout",
          "text": [
            "              precision    recall  f1-score   support\n",
            "\n",
            "           1       0.87      0.91      0.89      1327\n",
            "           2       0.82      0.90      0.86      1364\n",
            "           3       0.73      0.80      0.76      1584\n",
            "           4       0.74      0.78      0.76      1598\n",
            "           5       0.78      0.76      0.77       678\n",
            "           6       0.24      0.07      0.11       626\n",
            "\n",
            "    accuracy                           0.77      7177\n",
            "   macro avg       0.69      0.70      0.69      7177\n",
            "weighted avg       0.73      0.77      0.75      7177\n",
            "\n"
          ]
        }
      ]
    },
    {
      "cell_type": "markdown",
      "source": [
        "Observamos que la precisión está por encima del 70% en todas las clases menos para el segmento de tipo 6 que es considerablemente menor (24%). Lo mismo ocurre con el f1 score, por encima de 0.7 para todas las clases menos para la clase 6. Lo cual, acaba proporcinando un f1-scoring medio de 0.69.\n",
        "\n",
        "Tratamos de mejorar este modelo básico introduciendo algo más de robustez, controlando el posible overfiting y reduciendo la varianza. Esto se puede conseguir construyendo un modelo Bagging basado en nuestro weak-learner Random Forest, tal y como hacemos a continuación."
      ],
      "metadata": {
        "id": "AFVG2Ugu1_Rf"
      }
    },
    {
      "cell_type": "code",
      "source": [
        "# defino modelo de bagging (basado en nuestro estimador incial básico 'clf')\n",
        "clf_bagg = BaggingClassifier(base_estimator=clf)\n",
        "\n",
        "#entrenamos modelo bagg\n",
        "clf_bagg = clf_bagg.fit(X_train,y_train)\n",
        "\n",
        "#predecimos niveles set testeo\n",
        "y_pred_bagg = clf_bagg.predict(X_test)\n",
        "\n",
        "# Imprimimos un reporting de los resultados de la evaluación del algoritmo\n",
        "print(metrics.classification_report(y_test, y_pred_bagg))"
      ],
      "metadata": {
        "colab": {
          "base_uri": "https://localhost:8080/"
        },
        "id": "cDf31AR2I1h-",
        "outputId": "435be16c-1f47-4355-d8ec-1ef7dc533961"
      },
      "execution_count": 205,
      "outputs": [
        {
          "output_type": "stream",
          "name": "stdout",
          "text": [
            "              precision    recall  f1-score   support\n",
            "\n",
            "           1       0.88      0.91      0.90      1327\n",
            "           2       0.82      0.89      0.85      1364\n",
            "           3       0.72      0.80      0.76      1584\n",
            "           4       0.73      0.79      0.76      1598\n",
            "           5       0.78      0.76      0.77       678\n",
            "           6       0.29      0.09      0.13       626\n",
            "\n",
            "    accuracy                           0.77      7177\n",
            "   macro avg       0.70      0.71      0.70      7177\n",
            "weighted avg       0.74      0.77      0.75      7177\n",
            "\n"
          ]
        }
      ]
    },
    {
      "cell_type": "markdown",
      "source": [
        "Observamos de aquí que, gracias al modelo Bagging, la precisión y el f1-macro en la clase 6 se ha visto mejorada ligeramente, lo que acaba proporcionado un f1-macro medio de 0.70, es decir, se obtiene una muy pequeña mejora en la métrica f1.\n",
        "\n",
        "Tratamos de mejorar estos resultados intentando solucionar el problema de desbalanceo de la clase 6 que es la que está perjudicando de manera más directa el resultado de la métrica f1-macro.\n",
        "\n",
        "TRATAMIENTO PARA 'IMBALANCED DATA' de la clase 6\n",
        "\n",
        "Una de las técnicas más ampliamente conocidas y aplicadas consiste en la aplicación de 'under sampling' y 'over sampling'.\n",
        "La técnica de 'under sampling' consiste en la elección aleatoria de elementos de la clase mayoritaria y la posterior eliminación de estos del conjunto de entrenamiento. Mientras que con 'over sampling' se añaden copias al conjunto de entrenamiento de elementos pertenecientes a la clase minoritaría.\n",
        "Otras técnicas más elaboradas consisten en la aplicación de la combinación de under/over samplings a la vez para reducir la importancia de la clase mayoritaria al tiempo que se incrementa la existencia de elementos de la clase minoritaria.\n",
        "\n",
        "El enfoque escogido en el presente trabajo se centra en la técnica over sampling específicamente conocida como SMOTE (Synthetic Minority Oversampling Technique), así, podremos conseguir una mayor representatividad de la clase 6 (minoritaria) en el conjunto de datos y tratar así de mejorar nuestro modelo.\n",
        "\n",
        "En concreto, aunque sin entrar en detalles técnicos, el algoritmo SMOTE se basa en la aplicación del algoritmo de K-nearest neighbour (KNN) para crear 'datos sintéticos'. En primer lugar, SMOTE escoge elementos aleatorios de la clase minoritaria y a continuación establece los k-vecinos más cercanos a los datos. Entonces define un vector entre uno de esos vecinos y el punto de datos actual y multiplica dicho vector por un número aleatorio entre 0 y 1. De esta forma, acaba generando datos sintéticos entre los datos aleatorios (reales) y el k-vecino más cercano seleccionado aleatoriamente. Finalmente, el conjunto de puntos sintéticos generados se acaba incorporando al conjunto global de datos reales.\n",
        "\n",
        "Lo que se realiza a continuación es la implementación del algoritmo SMOTE para tratar el mencionado problema de desbalanceo de clases.\n",
        "\n",
        "IMPLEMENTACIÓN DEL ALGORITMO SMOTE\n",
        "\n",
        "A través de la librería imb.learn podemos hacer uso del ya implementado algoritmo SMOTE."
      ],
      "metadata": {
        "id": "9QBN5eoY2kum"
      }
    },
    {
      "cell_type": "code",
      "source": [
        "# miramos el número de pedidos que tenemos de cada clase antes de aplicar over_sampling con SMOTE\n",
        "print(\"Antes de oversampling, instancias de la clase '1': {}\".format(sum(y_train == 1)))\n",
        "print(\"Antes de oversampling, instancias de la clase '2': {}\".format(sum(y_train == 2)))\n",
        "print(\"Antes de oversampling, instancias de la clase '3': {}\".format(sum(y_train == 3)))\n",
        "print(\"Antes de oversampling, instancias de la clase '4': {}\".format(sum(y_train == 4)))\n",
        "print(\"Antes de oversampling, instancias de la clase '5': {}\".format(sum(y_train == 5)))\n",
        "print(\"Antes de oversampling, instancias de la clase '6': {}\".format(sum(y_train == 6)))\n",
        " \n",
        "# aplicamos el algoritmo SMOTE sobre la clase minoritaria (clase 6)\n",
        "\n",
        "# definimos objeto, algoritmo SMOTE\n",
        "sm = SMOTE(random_state = 31415, sampling_strategy='minority') # aplicamos algoritmo SMOTE sobre la clase minoritaria ('minority)\n",
        "\n",
        "# lo aplicamos a nuestro conjunto de datos\n",
        "X_train_sm, y_train_sm= sm.fit_resample(X_train,y_train) # aplicamos resample sobre nuestro conjunto de datos\n",
        "\n",
        "print('')\n",
        "\n",
        "# miramos el número de pedidos que tenemos de cada clase después de aplicar over_sampling con SMOTE\n",
        "print(\"Después de OverSampling, instancias de la clase '1': {}\".format(sum(y_train_sm == 1))) \n",
        "print(\"Después de OverSampling, instancias de la clase '2': {}\".format(sum(y_train_sm == 2)))  \n",
        "print(\"Después de OverSampling, instancias de la clase '3': {}\".format(sum(y_train_sm == 3)))\n",
        "print(\"Después de OverSampling, instancias de la clase '4': {}\".format(sum(y_train_sm == 4))) \n",
        "print(\"Después de OverSampling, instancias de la clase '5': {}\".format(sum(y_train_sm == 5)))\n",
        "print(\"Después de OverSampling, instancias de la clase '6': {}\".format(sum(y_train_sm == 6)))\n",
        "\n"
      ],
      "metadata": {
        "colab": {
          "base_uri": "https://localhost:8080/"
        },
        "id": "kvnwOpekJO6d",
        "outputId": "cf5c3f08-91af-482b-efc0-a2a12f765a95"
      },
      "execution_count": 195,
      "outputs": [
        {
          "output_type": "stream",
          "name": "stdout",
          "text": [
            "Antes de oversampling, instancias de la clase '1': 5178\n",
            "Antes de oversampling, instancias de la clase '2': 5396\n",
            "Antes de oversampling, instancias de la clase '3': 6539\n",
            "Antes de oversampling, instancias de la clase '4': 6329\n",
            "Antes de oversampling, instancias de la clase '5': 2751\n",
            "Antes de oversampling, instancias de la clase '6': 2514\n",
            "\n",
            "Después de OverSampling, instancias de la clase '1': 5178\n",
            "Después de OverSampling, instancias de la clase '2': 5396\n",
            "Después de OverSampling, instancias de la clase '3': 6539\n",
            "Después de OverSampling, instancias de la clase '4': 6329\n",
            "Después de OverSampling, instancias de la clase '5': 2751\n",
            "Después de OverSampling, instancias de la clase '6': 6539\n"
          ]
        }
      ]
    },
    {
      "cell_type": "markdown",
      "source": [
        "Observamos que, tras haber realizado over sampling sobre la clase 6, el resto de clases se mantiene intacto, pero ahora tenemos tantos elementos de la clase 6 como elementos tiene la clase mayoritaria (clase 4), esto es, 6539 elementos. Lo cual supone haber aumentado la presencia de la clase 6 minoritaria en un 160 %.\n",
        "\n",
        "Evidentemente esta ha sido la estrategia escogida en esta resolución, se puede determinar que el ratio de crecimiento de la clase minoritaria sea menor.\n",
        "\n",
        "Lanzamos nuevamente el modelo básico de árbol de decisión sobre el conjunto de datos con el over_sampling realizado y vemos si se obtiene algún tipo de mejora."
      ],
      "metadata": {
        "id": "iaKIcZPa4-TF"
      }
    },
    {
      "cell_type": "code",
      "source": [
        "# definimos nuevamente el modelo, mantememos misma profundidad de árbol\n",
        "model = DecisionTreeClassifier(max_depth=7)\n",
        "\n",
        "#entrenamos modelo, ahora sobre el conjunto de datos over_sampled\n",
        "model = model.fit(X_train_sm,y_train_sm)\n",
        "\n",
        "#predecimos niveles set testeo\n",
        "y_pred_model= model.predict(X_test)\n",
        "\n",
        "# Imprimimos un reporting de los resultados de la evaluación del algoritmo\n",
        "print(metrics.classification_report(y_test, y_pred_model))"
      ],
      "metadata": {
        "colab": {
          "base_uri": "https://localhost:8080/"
        },
        "id": "sv0HCKXwJO-f",
        "outputId": "70f0749b-6983-4836-a920-d08eceabcefd"
      },
      "execution_count": 213,
      "outputs": [
        {
          "output_type": "stream",
          "name": "stdout",
          "text": [
            "              precision    recall  f1-score   support\n",
            "\n",
            "           1       0.89      0.91      0.90      1327\n",
            "           2       0.85      0.80      0.82      1364\n",
            "           3       0.75      0.80      0.77      1584\n",
            "           4       0.74      0.79      0.76      1598\n",
            "           5       0.77      0.78      0.77       678\n",
            "           6       0.27      0.20      0.23       626\n",
            "\n",
            "    accuracy                           0.76      7177\n",
            "   macro avg       0.71      0.71      0.71      7177\n",
            "weighted avg       0.75      0.76      0.76      7177\n",
            "\n"
          ]
        }
      ]
    },
    {
      "cell_type": "code",
      "source": [
        "# evaluación de la métrica f1-macro\n",
        "metrics.f1_score(y_test,y_pred_model, average='macro')"
      ],
      "metadata": {
        "colab": {
          "base_uri": "https://localhost:8080/"
        },
        "id": "77dWvJ8JJPA4",
        "outputId": "647ad2b4-78f4-4a4d-c10f-e4950cfb43a6"
      },
      "execution_count": 214,
      "outputs": [
        {
          "output_type": "execute_result",
          "data": {
            "text/plain": [
              "0.7100915601856311"
            ]
          },
          "metadata": {},
          "execution_count": 214
        }
      ]
    },
    {
      "cell_type": "markdown",
      "source": [
        "Se observa, gracias a la aplicación de la técnica over_sampling, una ligera mejora en el f1 de la clase 6 lo que acaba proporcionando un f1-macro medio situado en los 0.71.\n",
        "\n",
        "Por lo tanto, podemos decir que la aplicación de la técnica over sampling mediante el algoritmo SMOTE ha proporcionado una ligera mejora en los resultados de la métrica f1-macro.\n",
        "\n",
        "Es interesante notar las futuras líneas de mejora más inmediatas para estos modelos desarrollados, a destacar principalemente:\n",
        "\n",
        "- Tuneo de hiperparámetros: probar distintas combinaciones de parámetros (no sólo max depth) y encontrar cuál es la mejor combinación de éstos que produce los mejores resultados, realizando un barrido por todo el espacio de búsqueda de hiper-parámetros (empleando funcionalidades como por ejemplo GridSearchCV)\n",
        "\n",
        "- Probar técnicas de under sampling en lugar de over sampling, donde lo que se reduce en este caso es la presencia de clases mayoritarias.\n",
        "\n",
        "- Probar combinaciones de over sampling y under sampling\n",
        "\n",
        "- Desarrollar meta-algoritmos más robustos basados en weaks learners\n",
        "\n",
        "\n",
        "#### PREDICCIONES DEL CONJUNTO TESTING PROPORCIONADO"
      ],
      "metadata": {
        "id": "L2xwR23L7472"
      }
    },
    {
      "cell_type": "code",
      "source": [
        "# miramos la estructura de los datos que queremos predecir\n",
        "test.head()"
      ],
      "metadata": {
        "colab": {
          "base_uri": "https://localhost:8080/",
          "height": 206
        },
        "id": "vCwEvk3F9XVV",
        "outputId": "5ff381b9-6be4-4ca6-bb30-220e9c17eedd"
      },
      "execution_count": 215,
      "outputs": [
        {
          "output_type": "execute_result",
          "data": {
            "text/html": [
              "\n",
              "  <div id=\"df-23fc88a8-fa36-4439-bfeb-5ff10eccaba2\">\n",
              "    <div class=\"colab-df-container\">\n",
              "      <div>\n",
              "<style scoped>\n",
              "    .dataframe tbody tr th:only-of-type {\n",
              "        vertical-align: middle;\n",
              "    }\n",
              "\n",
              "    .dataframe tbody tr th {\n",
              "        vertical-align: top;\n",
              "    }\n",
              "\n",
              "    .dataframe thead th {\n",
              "        text-align: right;\n",
              "    }\n",
              "</style>\n",
              "<table border=\"1\" class=\"dataframe\">\n",
              "  <thead>\n",
              "    <tr style=\"text-align: right;\">\n",
              "      <th></th>\n",
              "      <th>CLIENT ID</th>\n",
              "      <th>AVG CONSO</th>\n",
              "      <th>AVG BASKET SIZE</th>\n",
              "      <th>RECEIVED_COMMUNICATION</th>\n",
              "    </tr>\n",
              "  </thead>\n",
              "  <tbody>\n",
              "    <tr>\n",
              "      <th>0</th>\n",
              "      <td>48352078</td>\n",
              "      <td>8.33</td>\n",
              "      <td>100.00</td>\n",
              "      <td>0</td>\n",
              "    </tr>\n",
              "    <tr>\n",
              "      <th>1</th>\n",
              "      <td>18072186</td>\n",
              "      <td>93.42</td>\n",
              "      <td>186.83</td>\n",
              "      <td>1</td>\n",
              "    </tr>\n",
              "    <tr>\n",
              "      <th>2</th>\n",
              "      <td>48352246</td>\n",
              "      <td>45.83</td>\n",
              "      <td>137.50</td>\n",
              "      <td>0</td>\n",
              "    </tr>\n",
              "    <tr>\n",
              "      <th>3</th>\n",
              "      <td>18070621</td>\n",
              "      <td>16.67</td>\n",
              "      <td>200.00</td>\n",
              "      <td>1</td>\n",
              "    </tr>\n",
              "    <tr>\n",
              "      <th>4</th>\n",
              "      <td>48352262</td>\n",
              "      <td>13.33</td>\n",
              "      <td>160.00</td>\n",
              "      <td>0</td>\n",
              "    </tr>\n",
              "  </tbody>\n",
              "</table>\n",
              "</div>\n",
              "      <button class=\"colab-df-convert\" onclick=\"convertToInteractive('df-23fc88a8-fa36-4439-bfeb-5ff10eccaba2')\"\n",
              "              title=\"Convert this dataframe to an interactive table.\"\n",
              "              style=\"display:none;\">\n",
              "        \n",
              "  <svg xmlns=\"http://www.w3.org/2000/svg\" height=\"24px\"viewBox=\"0 0 24 24\"\n",
              "       width=\"24px\">\n",
              "    <path d=\"M0 0h24v24H0V0z\" fill=\"none\"/>\n",
              "    <path d=\"M18.56 5.44l.94 2.06.94-2.06 2.06-.94-2.06-.94-.94-2.06-.94 2.06-2.06.94zm-11 1L8.5 8.5l.94-2.06 2.06-.94-2.06-.94L8.5 2.5l-.94 2.06-2.06.94zm10 10l.94 2.06.94-2.06 2.06-.94-2.06-.94-.94-2.06-.94 2.06-2.06.94z\"/><path d=\"M17.41 7.96l-1.37-1.37c-.4-.4-.92-.59-1.43-.59-.52 0-1.04.2-1.43.59L10.3 9.45l-7.72 7.72c-.78.78-.78 2.05 0 2.83L4 21.41c.39.39.9.59 1.41.59.51 0 1.02-.2 1.41-.59l7.78-7.78 2.81-2.81c.8-.78.8-2.07 0-2.86zM5.41 20L4 18.59l7.72-7.72 1.47 1.35L5.41 20z\"/>\n",
              "  </svg>\n",
              "      </button>\n",
              "      \n",
              "  <style>\n",
              "    .colab-df-container {\n",
              "      display:flex;\n",
              "      flex-wrap:wrap;\n",
              "      gap: 12px;\n",
              "    }\n",
              "\n",
              "    .colab-df-convert {\n",
              "      background-color: #E8F0FE;\n",
              "      border: none;\n",
              "      border-radius: 50%;\n",
              "      cursor: pointer;\n",
              "      display: none;\n",
              "      fill: #1967D2;\n",
              "      height: 32px;\n",
              "      padding: 0 0 0 0;\n",
              "      width: 32px;\n",
              "    }\n",
              "\n",
              "    .colab-df-convert:hover {\n",
              "      background-color: #E2EBFA;\n",
              "      box-shadow: 0px 1px 2px rgba(60, 64, 67, 0.3), 0px 1px 3px 1px rgba(60, 64, 67, 0.15);\n",
              "      fill: #174EA6;\n",
              "    }\n",
              "\n",
              "    [theme=dark] .colab-df-convert {\n",
              "      background-color: #3B4455;\n",
              "      fill: #D2E3FC;\n",
              "    }\n",
              "\n",
              "    [theme=dark] .colab-df-convert:hover {\n",
              "      background-color: #434B5C;\n",
              "      box-shadow: 0px 1px 3px 1px rgba(0, 0, 0, 0.15);\n",
              "      filter: drop-shadow(0px 1px 2px rgba(0, 0, 0, 0.3));\n",
              "      fill: #FFFFFF;\n",
              "    }\n",
              "  </style>\n",
              "\n",
              "      <script>\n",
              "        const buttonEl =\n",
              "          document.querySelector('#df-23fc88a8-fa36-4439-bfeb-5ff10eccaba2 button.colab-df-convert');\n",
              "        buttonEl.style.display =\n",
              "          google.colab.kernel.accessAllowed ? 'block' : 'none';\n",
              "\n",
              "        async function convertToInteractive(key) {\n",
              "          const element = document.querySelector('#df-23fc88a8-fa36-4439-bfeb-5ff10eccaba2');\n",
              "          const dataTable =\n",
              "            await google.colab.kernel.invokeFunction('convertToInteractive',\n",
              "                                                     [key], {});\n",
              "          if (!dataTable) return;\n",
              "\n",
              "          const docLinkHtml = 'Like what you see? Visit the ' +\n",
              "            '<a target=\"_blank\" href=https://colab.research.google.com/notebooks/data_table.ipynb>data table notebook</a>'\n",
              "            + ' to learn more about interactive tables.';\n",
              "          element.innerHTML = '';\n",
              "          dataTable['output_type'] = 'display_data';\n",
              "          await google.colab.output.renderOutput(dataTable, element);\n",
              "          const docLink = document.createElement('div');\n",
              "          docLink.innerHTML = docLinkHtml;\n",
              "          element.appendChild(docLink);\n",
              "        }\n",
              "      </script>\n",
              "    </div>\n",
              "  </div>\n",
              "  "
            ],
            "text/plain": [
              "   CLIENT ID  AVG CONSO  AVG BASKET SIZE  RECEIVED_COMMUNICATION\n",
              "0   48352078       8.33           100.00                       0\n",
              "1   18072186      93.42           186.83                       1\n",
              "2   48352246      45.83           137.50                       0\n",
              "3   18070621      16.67           200.00                       1\n",
              "4   48352262      13.33           160.00                       0"
            ]
          },
          "metadata": {},
          "execution_count": 215
        }
      ]
    },
    {
      "cell_type": "code",
      "source": [
        "test.isnull().values.any() # comprobación que no hay NaN"
      ],
      "metadata": {
        "colab": {
          "base_uri": "https://localhost:8080/"
        },
        "id": "0bQsJhZFKZkM",
        "outputId": "8b0a142a-afbe-48a4-8384-7fdc42eb1455"
      },
      "execution_count": null,
      "outputs": [
        {
          "output_type": "execute_result",
          "data": {
            "text/plain": [
              "False"
            ]
          },
          "metadata": {},
          "execution_count": 78
        }
      ]
    },
    {
      "cell_type": "markdown",
      "source": [
        "El resto de procedimiento es esencialmente el mismo para la preparación de los datos. Una vez preparados, realizamos las predicciones sobre el Target."
      ],
      "metadata": {
        "id": "qJMqUYte9v6Q"
      }
    },
    {
      "cell_type": "code",
      "source": [
        "# preparación de los datos\n",
        "\n",
        "df = test\n",
        "\n",
        "feature_cols = ['AVG CONSO', 'AVG BASKET SIZE', 'RECEIVED_COMMUNICATION'] # conjunto de variables predictoras\n",
        "\n",
        "X = df[feature_cols] # Features\n",
        "\n",
        "# el modelo ya entrenado anteriormente (clf_bagg) lo utilizamos para predecir este nuevo conjunto de datos\n",
        "test_X_pred = model.predict(X)"
      ],
      "metadata": {
        "id": "H8_39CX8J-X8"
      },
      "execution_count": 216,
      "outputs": []
    },
    {
      "cell_type": "code",
      "source": [
        "# creamos dataframe de las predicciones (bajo el formato solicitado)\n",
        "\n",
        "X_pred = pd.DataFrame({'CLIENT ID':df['CLIENT ID'],\n",
        "        \"predicciones\": test_X_pred \n",
        "    })\n",
        "\n",
        "X_pred.to_csv('Predicciones.csv', index= False)\n"
      ],
      "metadata": {
        "id": "ZmvPWNasKsS5"
      },
      "execution_count": 217,
      "outputs": []
    },
    {
      "cell_type": "code",
      "source": [
        "# descargamos .csv con las predicciones\n",
        "from google.colab import files\n",
        "files.download('Predicciones.csv')"
      ],
      "metadata": {
        "colab": {
          "base_uri": "https://localhost:8080/",
          "height": 17
        },
        "id": "0Hc0l2mxLY5O",
        "outputId": "e41b918f-cdaf-4afb-e372-05db9175f085"
      },
      "execution_count": 220,
      "outputs": [
        {
          "output_type": "display_data",
          "data": {
            "application/javascript": [
              "\n",
              "    async function download(id, filename, size) {\n",
              "      if (!google.colab.kernel.accessAllowed) {\n",
              "        return;\n",
              "      }\n",
              "      const div = document.createElement('div');\n",
              "      const label = document.createElement('label');\n",
              "      label.textContent = `Downloading \"${filename}\": `;\n",
              "      div.appendChild(label);\n",
              "      const progress = document.createElement('progress');\n",
              "      progress.max = size;\n",
              "      div.appendChild(progress);\n",
              "      document.body.appendChild(div);\n",
              "\n",
              "      const buffers = [];\n",
              "      let downloaded = 0;\n",
              "\n",
              "      const channel = await google.colab.kernel.comms.open(id);\n",
              "      // Send a message to notify the kernel that we're ready.\n",
              "      channel.send({})\n",
              "\n",
              "      for await (const message of channel.messages) {\n",
              "        // Send a message to notify the kernel that we're ready.\n",
              "        channel.send({})\n",
              "        if (message.buffers) {\n",
              "          for (const buffer of message.buffers) {\n",
              "            buffers.push(buffer);\n",
              "            downloaded += buffer.byteLength;\n",
              "            progress.value = downloaded;\n",
              "          }\n",
              "        }\n",
              "      }\n",
              "      const blob = new Blob(buffers, {type: 'application/binary'});\n",
              "      const a = document.createElement('a');\n",
              "      a.href = window.URL.createObjectURL(blob);\n",
              "      a.download = filename;\n",
              "      div.appendChild(a);\n",
              "      a.click();\n",
              "      div.remove();\n",
              "    }\n",
              "  "
            ],
            "text/plain": [
              "<IPython.core.display.Javascript object>"
            ]
          },
          "metadata": {}
        },
        {
          "output_type": "display_data",
          "data": {
            "application/javascript": [
              "download(\"download_eae2aabb-d893-4608-8f8d-a2e6c959b554\", \"Predicciones.csv\", 232)"
            ],
            "text/plain": [
              "<IPython.core.display.Javascript object>"
            ]
          },
          "metadata": {}
        }
      ]
    },
    {
      "cell_type": "code",
      "source": [
        "/"
      ],
      "metadata": {
        "colab": {
          "base_uri": "https://localhost:8080/"
        },
        "id": "UubCGnroBpP8",
        "outputId": "7329a588-e76d-42bb-fc23-ba821afe4816"
      },
      "execution_count": 222,
      "outputs": [
        {
          "output_type": "execute_result",
          "data": {
            "text/plain": [
              "()"
            ]
          },
          "metadata": {},
          "execution_count": 222
        }
      ]
    }
  ]
}